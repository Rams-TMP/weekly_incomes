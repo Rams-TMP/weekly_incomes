{
  "nbformat": 4,
  "nbformat_minor": 0,
  "metadata": {
    "colab": {
      "provenance": [],
      "mount_file_id": "1-rRdXcko5NvjXK23uXZWePtIqLMczfks",
      "authorship_tag": "ABX9TyNDoIARfJOQDCHjHVLLQ8CV",
      "include_colab_link": true
    },
    "kernelspec": {
      "name": "python3",
      "display_name": "Python 3"
    },
    "language_info": {
      "name": "python"
    }
  },
  "cells": [
    {
      "cell_type": "markdown",
      "metadata": {
        "id": "view-in-github",
        "colab_type": "text"
      },
      "source": [
        "<a href=\"https://colab.research.google.com/github/Rams-TMP/weekly_incomes/blob/main/single_week_observation.ipynb\" target=\"_parent\"><img src=\"https://colab.research.google.com/assets/colab-badge.svg\" alt=\"Open In Colab\"/></a>"
      ]
    },
    {
      "cell_type": "code",
      "source": [
        "pip install pyxlsb"
      ],
      "metadata": {
        "colab": {
          "base_uri": "https://localhost:8080/"
        },
        "id": "Grcmzb4hn2Qb",
        "outputId": "9a858013-8e3b-4ea2-f859-b437c7e4f679"
      },
      "execution_count": 1,
      "outputs": [
        {
          "output_type": "stream",
          "name": "stdout",
          "text": [
            "Collecting pyxlsb\n",
            "  Downloading pyxlsb-1.0.10-py2.py3-none-any.whl (23 kB)\n",
            "Installing collected packages: pyxlsb\n",
            "Successfully installed pyxlsb-1.0.10\n"
          ]
        }
      ]
    },
    {
      "cell_type": "markdown",
      "source": [
        "#RUN"
      ],
      "metadata": {
        "id": "PTczlU2wsYNH"
      }
    },
    {
      "cell_type": "code",
      "source": [
        "import pandas as pd\n",
        "from pyxlsb import open_workbook\n",
        "from datetime import datetime, timedelta\n",
        "import matplotlib.pyplot as plt"
      ],
      "metadata": {
        "id": "0pfUkzBGM_bq"
      },
      "execution_count": 2,
      "outputs": []
    },
    {
      "cell_type": "code",
      "execution_count": 3,
      "metadata": {
        "id": "CXo6EnNenmFs"
      },
      "outputs": [],
      "source": [
        "# Ruta al archivo Excel\n",
        "file_path = 'Weekly Sheets 15.03.24.xlsb'\n",
        "\n",
        "# Función para convertir el número de serie de Excel a fecha\n",
        "def excel_date(num):\n",
        "    return (datetime(1899, 12, 30) + timedelta(days=num)).date()\n",
        "\n",
        "# Función para leer la hoja L-Sat\n",
        "def read_l_sat(file_path):\n",
        "    data = {}\n",
        "    sales_data = []\n",
        "    totals_data = []\n",
        "    with open_workbook(file_path) as wb:\n",
        "        with wb.get_sheet('L-Sat') as sheet:\n",
        "            for row in sheet.rows():\n",
        "                # Leer celdas informativas para indentificar, primeras hojas\n",
        "                if row[0].v == 'Week of:':\n",
        "                    data['week_of'] = excel_date(row[2].v)\n",
        "                if row[5] and row[5].v == 'Lunch - CASH':\n",
        "                    data['session'] = 'Lunch'\n",
        "                if row[18] and row [18].v == 'Lunch - CREDIT':\n",
        "                    data['session'] = 'Lunch'\n",
        "                if row[5] and row[5].v == 'Dinner - CASH':\n",
        "                    data['session'] = 'Dinner'\n",
        "                if row[18] and row [18].v == 'Dinner - CREDIT':\n",
        "                    data['session'] = 'Dinner'\n",
        "                # Leer celdas informativas para indentificar, resto de las hojas\n",
        "                if row[0] and row[0].v == 'Lunch - CASH':\n",
        "                    data['session'] = 'Lunch'\n",
        "                if row[13] and row [13].v == 'Lunch - CREDIT':\n",
        "                    data['session'] = 'Lunch'\n",
        "                if row[0] and row[0].v == 'Dinner - CASH':\n",
        "                    data['session'] = 'Dinner'\n",
        "                if row[13] and row [13].v == 'Dinner - CREDIT':\n",
        "                    data['session'] = 'Dinner'\n",
        "\n",
        "                # Leer rango de datos de ventas\n",
        "                if 3 <= row[0].r <= 37:\n",
        "                    table_row = [cell.v for cell in row[:12]]\n",
        "                    if any(cell is not None for cell in table_row):  # Omitir filas completamente vacías\n",
        "                        sales_data.append(table_row)\n",
        "\n",
        "                # Leer totales\n",
        "                if 38 <= row[0].r <= 40:\n",
        "                    total_row = [cell.v for cell in row[:12]]\n",
        "                    if any(cell is not None for cell in total_row):  # Omitir filas completamente vacías\n",
        "                        totals_data.append(total_row)\n",
        "    # Asegurarse de que todas las claves esperadas estén presentes en el diccionario data\n",
        "    if 'session' not in data:\n",
        "        data['session'] = 'None'\n",
        "\n",
        "    # Convertir los datos de ventas y totales a DataFrame\n",
        "    df_sales = pd.DataFrame(sales_data, columns=['T/N', 'Cvrs', 'Bill N°', 'Kitchen', 'Unnamed', 'Bin N°', 'Wine', 'Liqueurs', 'Cigars', 'Bar', 'Total', 'Folio'])\n",
        "    df_totals = pd.DataFrame(totals_data, columns=['T/N', 'Cvrs', 'Bill N°', 'Kitchen', 'Unnamed', 'Bin N°', 'Wine', 'Liqueurs', 'Cigars', 'Bar', 'Total', 'Folio'])\n",
        "\n",
        "    return data, df_sales, df_totals\n",
        "\n",
        "# Leer datos de la hoja L-Sat\n",
        "data, df_sales, df_totals = read_l_sat(file_path)"
      ]
    },
    {
      "cell_type": "code",
      "source": [
        "# Función para leer una hoja específica\n",
        "def read_sheet(file_path, sheet_name):\n",
        "    data = {}\n",
        "    sales_data = []\n",
        "    totals_data = []\n",
        "    with open_workbook(file_path) as wb:\n",
        "        with wb.get_sheet(sheet_name) as sheet:\n",
        "            for row in sheet.rows():\n",
        "                # Leer celdas informativas\n",
        "                # Leer celdas informativas para indentificar, primeras hojas\n",
        "                if row[0].v == 'Week of:':\n",
        "                    data['week_of'] = excel_date(row[2].v)\n",
        "                if row[5] and row[5].v == 'Lunch - CASH':\n",
        "                    data['session'] = 'Lunch'\n",
        "                if row[18] and row [18].v == 'Lunch - CREDIT':\n",
        "                    data['session'] = 'Lunch'\n",
        "                if row[5] and row[5].v == 'Dinner - CASH':\n",
        "                    data['session'] = 'Dinner'\n",
        "                if row[18] and row [18].v == 'Dinner - CREDIT':\n",
        "                    data['session'] = 'Dinner'\n",
        "                # Leer celdas informativas para indentificar, resto de las hojas\n",
        "                if row[0] and row[0].v == 'Lunch - CASH':\n",
        "                    data['session'] = 'Lunch'\n",
        "                if row[13] and row [13].v == 'Lunch - CREDIT':\n",
        "                    data['session'] = 'Lunch'\n",
        "                if row[0] and row[0].v == 'Dinner - CASH':\n",
        "                    data['session'] = 'Dinner'\n",
        "                if row[13] and row [13].v == 'Dinner - CREDIT':\n",
        "                    data['session'] = 'Dinner'\n",
        "\n",
        "                # Leer rango de datos de ventas\n",
        "                if 3 <= row[0].r <= 37:\n",
        "                    table_row = [cell.v for cell in row[:12]]\n",
        "                    if any(cell is not None for cell in table_row):  # Omitir filas completamente vacías\n",
        "                        sales_data.append(table_row)\n",
        "\n",
        "                # Leer totales\n",
        "                if 38 <= row[0].r <= 40:\n",
        "                    total_row = [cell.v for cell in row[:12]]\n",
        "                    if any(cell is not None for cell in total_row):  # Omitir filas completamente vacías\n",
        "                        totals_data.append(total_row)\n",
        "\n",
        "    # Asegurarse de que todas las claves esperadas estén presentes en el diccionario data\n",
        "    if 'session' not in data:\n",
        "        data['session'] = 'None'\n",
        "    # Asegurarse de que todas las claves esperadas estén presentes en el diccionario data\n",
        "    if 'week_of' not in data:\n",
        "        data['week_of'] = 'None'\n",
        "\n",
        "    # Convertir los datos de ventas y totales a DataFrame\n",
        "    df_sales = pd.DataFrame(sales_data, columns=['T/N', 'Cvrs', 'Bill N°', 'Kitchen', 'Unnamed', 'Bin N°', 'Wine', 'Liqueurs', 'Cigars', 'Bar', 'Total', 'Folio'])\n",
        "    df_totals = pd.DataFrame(totals_data, columns=['T/N', 'Cvrs', 'Bill N°', 'Kitchen', 'Unnamed', 'Bin N°', 'Wine', 'Liqueurs', 'Cigars', 'Bar', 'Total', 'Folio'])\n",
        "\n",
        "    return data, df_sales, df_totals\n",
        "\n",
        "# Leer datos de todas las hojas\n",
        "sheet_names = ['L-Sat', 'D-Sat', 'L-Sun', 'L-Wed', 'D-Wed', 'L-Thu', 'D-Thu', 'L-Fri', 'D-Fri']\n",
        "all_data = {}\n",
        "\n",
        "for sheet_name in sheet_names:\n",
        "    data, df_sales, df_totals = read_sheet(file_path, sheet_name)\n",
        "    all_data[sheet_name] = {'data': data, 'df_sales': df_sales, 'df_totals': df_totals}"
      ],
      "metadata": {
        "id": "B-wRgQBR_t9l"
      },
      "execution_count": 4,
      "outputs": []
    },
    {
      "cell_type": "code",
      "source": [
        "# Crear una figura y ejes para la gráfica\n",
        "fig, ax = plt.subplots(figsize=(12, 6))\n",
        "\n",
        "# Iterar sobre los datos de cada hoja y graficar los ingresos totales por día y sesión\n",
        "for sheet_name, sheet_data in all_data.items():\n",
        "    # Obtener datos relevantes\n",
        "    df_totals = sheet_data['df_totals']\n",
        "\n",
        "    # Filtrar el DataFrame para excluir la última fila (fila con índice -1)\n",
        "    df_totals_filtered = df_totals.iloc[:-1]\n",
        "\n",
        "    session_type = sheet_data['data']['session']  # Obtener el tipo de sesión (Lunch, Dinner, etc.)\n",
        "    day_of_week = sheet_name.split('-')[1]  # Obtener el día de la semana\n",
        "\n",
        "    # Verificar el tipo de sesión\n",
        "    if session_type == 'Lunch':\n",
        "        total_sales = df_totals_filtered['Total'].sum()\n",
        "    elif session_type == 'Dinner':\n",
        "        total_sales = df_totals_filtered['Total'].sum()\n",
        "    else:\n",
        "        total_sales = 0  # O cualquier manejo que desees para otro tipo de sesiones\n",
        "\n",
        "    # Graficar los totales\n",
        "    ax.bar(day_of_week + ' (' + session_type + ')', total_sales, color='blue', alpha=0.5)\n",
        "\n",
        "# Personalizar la gráfica\n",
        "ax.set_xlabel('Day of Week')\n",
        "ax.set_ylabel('Total Income')\n",
        "ax.set_title('Total Income by Day and Session')\n",
        "\n",
        "# Mostrar la gráfica\n",
        "plt.tight_layout()\n",
        "plt.show()"
      ],
      "metadata": {
        "colab": {
          "base_uri": "https://localhost:8080/",
          "height": 607
        },
        "id": "_e90s8Svf_k_",
        "outputId": "5d5d1144-afb4-4d61-c6b1-06ed1f73bcfe"
      },
      "execution_count": 5,
      "outputs": [
        {
          "output_type": "display_data",
          "data": {
            "text/plain": [
              "<Figure size 1200x600 with 1 Axes>"
            ],
            "image/png": "[encoded data removed]"
          },
          "metadata": {}
        }
      ]
    },
    {
      "cell_type": "code",
      "source": [],
      "metadata": {
        "id": "Srn1q1_3yREA"
      },
      "execution_count": 5,
      "outputs": []
    }
  ]
}